{
 "cells": [
  {
   "cell_type": "markdown",
   "metadata": {
    "id": "WzajGhK3ZxPT"
   },
   "source": [
    "# Fundamentals of Data Science\n",
    "Winter Semester 2021\n",
    "\n",
    "## Prof. Fabio Galasso, Guido D'Amely, Alessandro Flaborea, Luca Franco, Muhammad Rameez Ur Rahman and Alessio Sampieri\n",
    "<galasso@di.uniroma1.it>, <damely@di.uniroma1.it>, <flaborea.1841969@studenti.uniroma1.it>, <franco.luca.17@gmail.com>, <rahman@di.uniroma1.it>, <alessiosampieri27@gmail.com>\n",
    "\n",
    "## Exercise 1: Image Filtering and Object Identification"
   ]
  },
  {
   "cell_type": "markdown",
   "metadata": {
    "id": "eV6CqjqgdLUt"
   },
   "source": [
    "In this exercise you will first familiarise yourself with the basic image filtering routines of Python and NumPy (**Question 1**), then develop a simple image querying system which accepts a query image as input and then finds a set of similar images in the database (**Question 2, 3 and 4**).\n",
    "\n",
    "This notebook consists of essential functions to solve assignment and questions to be implemented; your task is to fill the missing code \"YOUR CODE HERE\" part corresponding to each subproblem and produce brief reports on the results whenever necessary.\n",
    "\n",
    "The filtering part contains two images: *graph.png* and *brick_aliasing.jpg*, which we will use for testing purposes.\n",
    "\n",
    "In the identification part, you will compare images with several distance functions and evaluate their performance in combination with different image representations. The identification part contains query and model images\n",
    "for the evaluation, which correspond to the same set of objects photographed from different viewpoints. The files model.txt and query.txt contain lists of image files arranged so that i-th model image depicts the same object as i-th query image. The placeholder scripts will also be used to test your solution.\n",
    "\n",
    "As part of the exercise, provide an answer to questions in this notebook, in a report-like manner. After you have implemented all the missing code in both exercise parts, you should be able to execute those without errors. Use those to support your answers in the report answers.\n",
    "\n",
    "The completed exercise should be handed in as a single notebook file. Use Markdown to provide equations. Use the code sections to provide your scripts and the corresponding plots.\n",
    "Submit it by sending an email to galasso@di.uniroma1.it, damely@di.uniroma1.it, rahman@di.uniroma1.it and alessiosampieri27@gmail.com by Wednesday October 20th, 23:59.\n"
   ]
  },
  {
   "cell_type": "markdown",
   "metadata": {
    "id": "x2K7arzbdXst"
   },
   "source": [
    "## Question 1: Image Filtering **(9 Points)**"
   ]
  },
  {
   "cell_type": "markdown",
   "metadata": {
    "id": "wvSsgW5ovZ35"
   },
   "source": [
    "Import some useful libraries"
   ]
  },
  {
   "cell_type": "code",
   "execution_count": 6,
   "metadata": {
    "id": "GFoam7MjsLDm"
   },
   "outputs": [],
   "source": [
    "## import packages\n",
    "import numpy as np\n",
    "from PIL import Image\n",
    "from scipy.signal import convolve2d as conv2, convolve\n",
    "import matplotlib.pyplot as plt\n",
    "import cv2\n",
    "import math\n",
    "\n",
    "plt.rcParams[\"figure.figsize\"] = (20,8)"
   ]
  },
  {
   "cell_type": "code",
   "execution_count": 7,
   "metadata": {
    "id": "_A0hXS8Ld17S"
   },
   "outputs": [],
   "source": [
    "def rgb2gray(rgb):\n",
    "  '''\n",
    "  RGB -> gray_scale\n",
    "  '''\n",
    "  r, g, b = rgb[:,:,0], rgb[:,:,1], rgb[:,:,2]\n",
    "  gray = 0.2989 * r + 0.5870 * g + 0.1140 * b\n",
    "  return gray"
   ]
  },
  {
   "cell_type": "markdown",
   "metadata": {
    "id": "PiSZmPa3vJe_"
   },
   "source": [
    "### Exercise 1 - Code **(7 Points)**"
   ]
  },
  {
   "cell_type": "markdown",
   "metadata": {
    "id": "yV8bL4SjdfRa"
   },
   "source": [
    "#### Exercise 1.a **(3 Points)**\n"
   ]
  },
  {
   "cell_type": "markdown",
   "metadata": {
    "id": "BSlOA3LdwQX-"
   },
   "source": [
    "##### 1-D Gaussian Filter\n",
    "Implement a method which computes the values of a 1-D Gaussian *Gx* for a given standard deviation $\\sigma$ :\n",
    "\\begin{equation}\n",
    "G=\\frac{1}{\\sqrt{2\\pi}\\sigma}\\exp(-\\frac{x^2}{2\\sigma^2})\n",
    "\\end{equation}\n",
    "\n",
    "The method should also return a vector *x* of values on which the Gaussian filter is defined: integer values on the interval $\\left[-3\\sigma,3\\sigma\\right]$.\n",
    "\n",
    "This should be the output with $\\sigma=3$.\n",
    "\n",
    "\n",
    "![](https://drive.google.com/uc?export=view&id=1Q3WIdozsroKzinnlyZhgZHFMdYj7KQrw)\n"
   ]
  },
  {
   "cell_type": "code",
   "execution_count": 19,
   "metadata": {
    "id": "3eQPl0_QSYQ2"
   },
   "outputs": [],
   "source": [
    "def gauss(sigma):\n",
    "    \"\"\"\n",
    "    Gauss function taking as argument the standard deviation sigma\n",
    "    The filter should be defined for all integer values x in the range [-3sigma,3sigma]\n",
    "    The function should return the Gaussian values Gx computed at the indexes x\n",
    "    \"\"\"\n",
    "    x=range(-3*sigma,3*sigma+1)\n",
    "    Gx=[1/((2*np.pi)**0.5*sigma)*np.exp(-i**2/(2*sigma**2)) for i in x]\n",
    "    \n",
    "    return Gx, x"
   ]
  },
  {
   "cell_type": "markdown",
   "metadata": {
    "id": "r-kKAa3iRk_d"
   },
   "source": [
    "################# Do not write below this line just run #################"
   ]
  },
  {
   "cell_type": "code",
   "execution_count": 20,
   "metadata": {
    "colab": {
     "base_uri": "https://localhost:8080/",
     "height": 324
    },
    "id": "xVGsb0X6S9mx",
    "outputId": "403541f1-4e21-406d-b5bd-853c54286f28"
   },
   "outputs": [
    {
     "data": {
      "image/png": "[encoded data removed]",
      "text/plain": [
       "<Figure size 432x288 with 1 Axes>"
      ]
     },
     "metadata": {
      "needs_background": "light"
     },
     "output_type": "display_data"
    }
   ],
   "source": [
    "## function gauss\n",
    "sigma = 3\n",
    "Gx,x = gauss(sigma)\n",
    "plt.figure(1)\n",
    "plt.plot(x, Gx, '.-')\n",
    "plt.show()"
   ]
  },
  {
   "cell_type": "markdown",
   "metadata": {
    "id": "5RjULnuwCzdi"
   },
   "source": [
    "##### 1-D Box Filter\n",
    "\n",
    "Implement a method which computes the values of a 1-D Box *Bx* for a given standard deviation $\\sigma$ :\n",
    "\\begin{equation}\n",
    "B= [\\frac{1}{n},\\frac{1}{n},\\dots,\\frac{1}{n}]\\in \\mathbb{R}^n \n",
    "\\end{equation}\n",
    "\n",
    "The method should also return a vector *x* of values on which the **Box** filter is defined: integer values on the interval $\\left[-3\\sigma,3\\sigma\\right]$.\n",
    "\n",
    "An example of Box Filter:\n",
    "\n",
    "![](https://drive.google.com/uc?export=view&id=1UBpSRYNkZnK2UGmGsMSnrmzwrPyMt6Fz)"
   ]
  },
  {
   "cell_type": "code",
   "execution_count": 21,
   "metadata": {
    "id": "kSuUWLCRTH0B"
   },
   "outputs": [],
   "source": [
    "def box(filter_size=3,show_verbose=False):\n",
    "    \"\"\"\n",
    "    box function taking as argument the filter size.\n",
    "    The filter should be defined for all integer values and centered at zero\n",
    "    The function should return the Box values Bx computed at the indexes x\n",
    "    \"\"\"\n",
    "    x=range(-int((filter_size-1)/2),int((filter_size-1)/2)+1)\n",
    "    Bx=[1/filter_size for i in x]\n",
    "    return Bx,x"
   ]
  },
  {
   "cell_type": "markdown",
   "metadata": {
    "id": "v5l08rA310JB"
   },
   "source": [
    "################# Do not write below this line just run #################"
   ]
  },
  {
   "cell_type": "code",
   "execution_count": 23,
   "metadata": {
    "colab": {
     "base_uri": "https://localhost:8080/",
     "height": 483
    },
    "id": "DLkOXmBqdlvg",
    "outputId": "83434b14-d8c0-4cfc-f1da-0da8ba4e8e23"
   },
   "outputs": [
    {
     "data": {
      "image/png": "[encoded data removed]",
      "text/plain": [
       "<Figure size 432x288 with 1 Axes>"
      ]
     },
     "metadata": {
      "needs_background": "light"
     },
     "output_type": "display_data"
    }
   ],
   "source": [
    "## function box\n",
    "size = 3\n",
    "Bx,x = box(size)\n",
    "plt.figure(1)\n",
    "plt.plot(x, Bx, '.-')\n",
    "plt.show()"
   ]
  },
  {
   "cell_type": "markdown",
   "metadata": {
    "id": "z--zFCaLUm0f"
   },
   "source": [
    "##### 2-D custom filter\n",
    "Recreate the given 3x3 filter:\n",
    "\n",
    "\\begin{bmatrix}\n",
    "-0.015 & -0.035 & -0.015\\\\\n",
    "-0.035 & 0.8 &  -0.035 \\\\\n",
    "-0.015 & -0.035 & -0.015\n",
    "\\end{bmatrix}\n",
    "\n",
    " The absolute value of the elements in the kernel sum to 1, in the middle position we find 80% of the weights and in the corners 30% of the remaining percentage with negative sign."
   ]
  },
  {
   "cell_type": "code",
   "execution_count": 26,
   "metadata": {
    "id": "w-Iq9cEnUlwO"
   },
   "outputs": [],
   "source": [
    "def custom():\n",
    "    \"\"\"\n",
    "    This function returns the shown kernel.\n",
    "    \"\"\"\n",
    "    Gx=np.array([[-0.015,-0.035,-0.015],[-0.035,0.8,-0.035],[-0.015,-0.035,-0.015]])\n",
    "\n",
    "    return Gx"
   ]
  },
  {
   "cell_type": "markdown",
   "metadata": {
    "id": "UyAS5QfG19We"
   },
   "source": [
    "################# Do not write below this line just run #################"
   ]
  },
  {
   "cell_type": "code",
   "execution_count": 27,
   "metadata": {
    "colab": {
     "base_uri": "https://localhost:8080/"
    },
    "id": "Dcy_lIBsamPC",
    "outputId": "0f0dcbed-a713-404f-fc89-40ac01918aed"
   },
   "outputs": [
    {
     "name": "stdout",
     "output_type": "stream",
     "text": [
      "[[-0.015 -0.035 -0.015]\n",
      " [-0.035  0.8   -0.035]\n",
      " [-0.015 -0.035 -0.015]]\n"
     ]
    }
   ],
   "source": [
    "custom_filter = custom()\n",
    "print(custom_filter)"
   ]
  },
  {
   "cell_type": "markdown",
   "metadata": {
    "id": "fjSheD-tXA4S"
   },
   "source": [
    "##### Gauss derivative 1-D\n",
    "Implement a function gaussdx for creating a Gaussian derivative filter in 1D:\n",
    "$$\n",
    "\\frac{d}{dx}G =-\\frac{1}{\\sqrt{2\\pi}\\sigma^3}x\\exp({-\\frac{x^2}{2\\sigma^2}})\n",
    "$$\n",
    "As in 1.a-1.b, the function should also return a vector x of values on which the Gaussian derivative filter is\n",
    "defined: integer values on the interval $[3\\sigma; 3\\sigma]$.\n",
    "\n",
    "An example of Gauss derivative 1-D:\n",
    "\n",
    "![](https://drive.google.com/uc?export=view&id=1QZmVMxJiOARKe5MoqzZ7SSSjFikoY2ty)"
   ]
  },
  {
   "cell_type": "code",
   "execution_count": 34,
   "metadata": {
    "id": "pBlMc3hOY_mT"
   },
   "outputs": [],
   "source": [
    "def gaussdx(sigma):\n",
    "\n",
    "    x=range(-3*sigma,3*sigma+1)\n",
    "    Dx=[-1/((2*np.pi)**0.5*sigma**3)*i*np.exp(-i**2/(2*sigma**2)) for i in x]\n",
    "\n",
    "    return Dx, x"
   ]
  },
  {
   "cell_type": "markdown",
   "metadata": {
    "id": "WoXw6cE72Gze"
   },
   "source": [
    "################# Do not write below this line just run #################"
   ]
  },
  {
   "cell_type": "code",
   "execution_count": 35,
   "metadata": {
    "colab": {
     "base_uri": "https://localhost:8080/",
     "height": 483
    },
    "id": "81_WdzQWZUkz",
    "outputId": "91149ad7-68ee-4f79-cc11-915a2bcb5398"
   },
   "outputs": [
    {
     "data": {
      "image/png": "[encoded data removed]",
      "text/plain": [
       "<Figure size 432x288 with 1 Axes>"
      ]
     },
     "metadata": {
      "needs_background": "light"
     },
     "output_type": "display_data"
    }
   ],
   "source": [
    "## function gaussdx\n",
    "sigma = 3\n",
    "DGx,x = gaussdx(sigma)\n",
    "plt.figure(1)\n",
    "plt.plot(x, DGx, '.-')\n",
    "plt.show()"
   ]
  },
  {
   "cell_type": "markdown",
   "metadata": {
    "id": "m6BSqihaC1fp"
   },
   "source": [
    "#### Exercise 1.b **(3 Points)**\n",
    "\n",
    "Here you have to convolve the filters you have just defined with the given image _'graf.png'_. Remember that \"Box\" and \"Gaussian\" filters are separable."
   ]
  },
  {
   "cell_type": "markdown",
   "metadata": {
    "id": "uXmgnhsShOHB"
   },
   "source": [
    "##### 2-D Gaussian filter\n",
    "The function should take an image as an input\n",
    "and return the result of convolution of this image with 2D Gaussian kernel. You can take advantage of the Python’s convolve2D function if you don’t want to\n",
    "implement convolution yourself.\n",
    "\n",
    "See figure below for illustration\n",
    "of Gaussian filtering. \n",
    "![](https://drive.google.com/uc?export=view&id=1GtsTZXlnj811pJi1VnamdtDCvhqHiu8j)\n",
    "\n"
   ]
  },
  {
   "cell_type": "code",
   "execution_count": null,
   "metadata": {
    "id": "tncxK4D4cpfA"
   },
   "outputs": [],
   "source": [
    "def gaussfiltering(img, sigma):\n",
    "  \"\"\"\n",
    "  Implement a 2D Gaussian filter, leveraging the previous gauss.\n",
    "  Implement the filter from scratch or leverage the convolve or convolve2D methods (scipy.signal)\n",
    "  Leverage the separability of Gaussian filtering\n",
    "  Input: image, sigma (standard deviation)\n",
    "  Output: smoothed image\n",
    "  \"\"\"\n",
    "  #####################################################\n",
    "  ##                 YOUR CODE HERE                  ##\n",
    "  #####################################################\n",
    "  \n",
    "  return np.array(smooth_img)"
   ]
  },
  {
   "cell_type": "markdown",
   "metadata": {
    "id": "iaRGkjLI4peV"
   },
   "source": [
    "################# Do not write below this line just run #################"
   ]
  },
  {
   "cell_type": "code",
   "execution_count": 36,
   "metadata": {
    "colab": {
     "base_uri": "https://localhost:8080/",
     "height": 471
    },
    "id": "Ab-ERNGMD7aX",
    "outputId": "062a1e55-2949-46d1-e73e-e7bc4c2fce2a"
   },
   "outputs": [
    {
     "ename": "NameError",
     "evalue": "name 'gaussfiltering' is not defined",
     "output_type": "error",
     "traceback": [
      "\u001b[1;31m---------------------------------------------------------------------------\u001b[0m",
      "\u001b[1;31mNameError\u001b[0m                                 Traceback (most recent call last)",
      "\u001b[1;32m<ipython-input-36-fec0cb73632a>\u001b[0m in \u001b[0;36m<module>\u001b[1;34m\u001b[0m\n\u001b[0;32m      1\u001b[0m \u001b[0mimg\u001b[0m \u001b[1;33m=\u001b[0m \u001b[0mrgb2gray\u001b[0m\u001b[1;33m(\u001b[0m\u001b[0mnp\u001b[0m\u001b[1;33m.\u001b[0m\u001b[0marray\u001b[0m\u001b[1;33m(\u001b[0m\u001b[0mImage\u001b[0m\u001b[1;33m.\u001b[0m\u001b[0mopen\u001b[0m\u001b[1;33m(\u001b[0m\u001b[1;34m'graf.png'\u001b[0m\u001b[1;33m)\u001b[0m\u001b[1;33m)\u001b[0m\u001b[1;33m)\u001b[0m\u001b[1;33m\u001b[0m\u001b[1;33m\u001b[0m\u001b[0m\n\u001b[1;32m----> 2\u001b[1;33m \u001b[0msmooth_img\u001b[0m \u001b[1;33m=\u001b[0m \u001b[0mgaussfiltering\u001b[0m\u001b[1;33m(\u001b[0m\u001b[0mimg\u001b[0m\u001b[1;33m,\u001b[0m \u001b[1;36m5\u001b[0m\u001b[1;33m)\u001b[0m\u001b[1;33m\u001b[0m\u001b[1;33m\u001b[0m\u001b[0m\n\u001b[0m\u001b[0;32m      3\u001b[0m \u001b[1;31m#print(smooth_img.shape)\u001b[0m\u001b[1;33m\u001b[0m\u001b[1;33m\u001b[0m\u001b[1;33m\u001b[0m\u001b[0m\n\u001b[0;32m      4\u001b[0m \u001b[0mplt\u001b[0m\u001b[1;33m.\u001b[0m\u001b[0mfigure\u001b[0m\u001b[1;33m(\u001b[0m\u001b[1;36m2\u001b[0m\u001b[1;33m)\u001b[0m\u001b[1;33m\u001b[0m\u001b[1;33m\u001b[0m\u001b[0m\n\u001b[0;32m      5\u001b[0m \u001b[0max1\u001b[0m \u001b[1;33m=\u001b[0m \u001b[0mplt\u001b[0m\u001b[1;33m.\u001b[0m\u001b[0msubplot\u001b[0m\u001b[1;33m(\u001b[0m\u001b[1;36m1\u001b[0m\u001b[1;33m,\u001b[0m\u001b[1;36m2\u001b[0m\u001b[1;33m,\u001b[0m\u001b[1;36m1\u001b[0m\u001b[1;33m)\u001b[0m\u001b[1;33m\u001b[0m\u001b[1;33m\u001b[0m\u001b[0m\n",
      "\u001b[1;31mNameError\u001b[0m: name 'gaussfiltering' is not defined"
     ]
    }
   ],
   "source": [
    "img = rgb2gray(np.array(Image.open('graf.png')))\n",
    "smooth_img = gaussfiltering(img, 5)\n",
    "#print(smooth_img.shape)\n",
    "plt.figure(2)\n",
    "ax1 = plt.subplot(1,2,1)\n",
    "ax1.set_xlabel('Input Image')\n",
    "ax2 = plt.subplot(1,2,2)\n",
    "ax2.set_xlabel('Gaussian Filtered Image')\n",
    "plt.sca(ax1)\n",
    "plt.imshow(img, cmap='gray', vmin=0, vmax=255)\n",
    "plt.sca(ax2)\n",
    "plt.imshow(smooth_img, cmap='gray', vmin=0, vmax=255)\n",
    "plt.show()"
   ]
  },
  {
   "cell_type": "code",
   "execution_count": 40,
   "metadata": {},
   "outputs": [
    {
     "data": {
      "text/plain": [
       "<matplotlib.image.AxesImage at 0x2861bda5f88>"
      ]
     },
     "execution_count": 40,
     "metadata": {},
     "output_type": "execute_result"
    },
    {
     "data": {
      "image/png": "[encoded data removed]",
      "text/plain": [
       "<Figure size 432x288 with 1 Axes>"
      ]
     },
     "metadata": {
      "needs_background": "light"
     },
     "output_type": "display_data"
    }
   ],
   "source": [
    "img = rgb2gray(np.array(Image.open('graf.png')))\n",
    "plt.imshow(img, cmap='gray', vmin=0, vmax=255)"
   ]
  },
  {
   "cell_type": "markdown",
   "metadata": {
    "id": "Dv-Fw9VjDwzc"
   },
   "source": [
    "##### 2-D Box filter\n",
    "The function should take an image as an input\n",
    "and return the result of convolution of this image with 2D Box kernel. \n",
    "\n",
    "See figure below for illustration of Box filtering.\n",
    "\n",
    "![Original Image](https://drive.google.com/uc?export=view&id=1IMrJUuTouVHmaiiyWB6H1QbKLzYTg9qC)\n",
    "\n"
   ]
  },
  {
   "cell_type": "code",
   "execution_count": null,
   "metadata": {
    "id": "fTYJh1IPdpog"
   },
   "outputs": [],
   "source": [
    "def boxfiltering(img, filter_size):\n",
    "  \"\"\"\n",
    "  Implement a 2D Box filter, leveraging the previous box.\n",
    "  Leverage the separability of Box filtering\n",
    "  Input: image, filter_size\n",
    "  Output: smoothed image\n",
    "  \"\"\"\n",
    "  #####################################################\n",
    "  ##                 YOUR CODE HERE                  ##\n",
    "  #####################################################\n",
    "\n",
    "  return np.array(smooth_img)"
   ]
  },
  {
   "cell_type": "markdown",
   "metadata": {
    "id": "2GP37W6D5PHZ"
   },
   "source": [
    "################# Do not write below this line just run #################"
   ]
  },
  {
   "cell_type": "code",
   "execution_count": null,
   "metadata": {
    "colab": {
     "base_uri": "https://localhost:8080/",
     "height": 471
    },
    "id": "iRbG_ZGtihrP",
    "outputId": "eabf9b7f-7bc7-462d-bf51-05e35fa3505b"
   },
   "outputs": [],
   "source": [
    "img = rgb2gray(np.array(Image.open('graf.png')))\n",
    "smooth_img = boxfiltering(img, 20)\n",
    "plt.figure(2)\n",
    "ax1 = plt.subplot(1,2,1)\n",
    "ax1.set_xlabel('Input Image')\n",
    "ax2 = plt.subplot(1,2,2)\n",
    "ax2.set_xlabel('Box Filtered Image')\n",
    "plt.sca(ax1)\n",
    "plt.imshow(img, cmap='gray', vmin=0, vmax=255)\n",
    "plt.sca(ax2)\n",
    "plt.imshow(smooth_img, cmap='gray', vmin=0, vmax=255)\n",
    "plt.show()"
   ]
  },
  {
   "cell_type": "markdown",
   "metadata": {
    "id": "NgiRrMnf7AfJ"
   },
   "source": [
    "##### Custom Filter\n",
    "\n",
    "The function should take an image and return the result of the convolution of this image with the custom filter we have defined in exercise 1.a.\n",
    "\n",
    "See figure below for an illustration of this custom filter.\n",
    "\n",
    "![](https://drive.google.com/uc?export=view&id=1N1wEkhqOuAX3TusQNNxN9KPOXb9nRsFn)\n",
    "\n"
   ]
  },
  {
   "cell_type": "code",
   "execution_count": null,
   "metadata": {
    "id": "AmeiaJiO7X5U"
   },
   "outputs": [],
   "source": [
    "def customfiltering(img):\n",
    "  \"\"\"\n",
    "  Implement a 2D Custom filter\n",
    "  Implement the filter from scratch \n",
    "  Input: image\n",
    "  Output: smoothed image\n",
    "  \"\"\"\n",
    "  #####################################################\n",
    "  ##                 YOUR CODE HERE                  ##\n",
    "  #####################################################\n",
    "\n",
    "  return np.array(smooth_img)"
   ]
  },
  {
   "cell_type": "markdown",
   "metadata": {
    "id": "x0Gmt50w5RVn"
   },
   "source": [
    "################# Do not write below this line just run #################"
   ]
  },
  {
   "cell_type": "code",
   "execution_count": null,
   "metadata": {
    "colab": {
     "base_uri": "https://localhost:8080/",
     "height": 471
    },
    "id": "8tqDepPK-Myh",
    "outputId": "a01bcdf4-b76d-4c4e-92c1-8494265dcf08"
   },
   "outputs": [],
   "source": [
    "img = rgb2gray(np.array(Image.open('graf.png')))\n",
    "smooth_img = customfiltering(img)\n",
    "#print(smooth_img.shape)\n",
    "plt.figure(2)\n",
    "ax1 = plt.subplot(1,2,1)\n",
    "ax1.set_xlabel('Input Image')\n",
    "ax2 = plt.subplot(1,2,2)\n",
    "ax2.set_xlabel('Custom Filtered Image')\n",
    "plt.sca(ax1)\n",
    "plt.imshow(img, cmap='gray', vmin=0, vmax=255)\n",
    "plt.sca(ax2)\n",
    "plt.imshow(smooth_img, cmap='gray', vmin=0, vmax=255)\n",
    "plt.show()"
   ]
  },
  {
   "cell_type": "markdown",
   "metadata": {
    "id": "YWJWsjraqarL"
   },
   "source": [
    "#### Exercise 1.c **(1 Points)**\n",
    "\n",
    "Implement a Gaussian Pyramid: Write a function for downscaling (you can use the function [resize from cv2](https://docs.opencv.org/master/dd/d52/tutorial_js_geometric_transformations.html) library) and use the Gaussian filter to blur it. The Pyramid must consist of three steps: \n",
    "\n",
    "* Apply Gaussian filter on original Image\n",
    "* Resize (Downscale) the smoothed image (obtained from previous step) and apply Gaussian filter again.\n",
    "* Resize (Downscale) the smoothed image (obtained from previous step) and apply Gaussian filter again.\n",
    "\n",
    "See figure below for an illlustration of Gaussian Pyramid.\n",
    "![](https://drive.google.com/uc?export=view&id=1JKeyNozWgoBWHqrUwj4SEF6SJEnO9uMt)\n"
   ]
  },
  {
   "cell_type": "code",
   "execution_count": null,
   "metadata": {
    "id": "mlQ3mSrxg9dL"
   },
   "outputs": [],
   "source": [
    "def downscale(img, factor):\n",
    "  '''\n",
    "  This function should return the given image\n",
    "  resized by the factor.\n",
    "  Input:\n",
    "    img: the image to resize\n",
    "    factor: the factor you want use to downscale\n",
    "  Output:\n",
    "    resized: the resized image\n",
    "  '''\n",
    "  #####################################################\n",
    "  ##                 YOUR CODE HERE                  ##\n",
    "  #####################################################\n",
    "\n",
    "  return resized_img"
   ]
  },
  {
   "cell_type": "code",
   "execution_count": null,
   "metadata": {
    "id": "eyty2iI3j2sn"
   },
   "outputs": [],
   "source": [
    "def GaussianPyramid(img, steps=3, factor=0.5, sigma=4):\n",
    "  '''\n",
    "  This function implements the Gaussian Pyramid and shows the results.\n",
    "  Leverage the \"downscale\" function.\n",
    "  \n",
    "  Inputs:\n",
    "    img: the image\n",
    "    steps: number of steps to use in performing the Pyramid\n",
    "    factor: the scaling factor to resize the image at each step\n",
    "    sigma: the Gaussian filter parameter\n",
    "  \n",
    "  Output:\n",
    "    --\n",
    "  '''\n",
    "  #####################################################\n",
    "  ##                 YOUR CODE HERE                  ##\n",
    "  #####################################################\n",
    "  return"
   ]
  },
  {
   "cell_type": "markdown",
   "metadata": {
    "id": "E0zgvolA5DeT"
   },
   "source": [
    "################# Do not write below this line just run #################"
   ]
  },
  {
   "cell_type": "code",
   "execution_count": null,
   "metadata": {
    "colab": {
     "base_uri": "https://localhost:8080/",
     "height": 868
    },
    "id": "BwGxJTlwje2B",
    "outputId": "edb45a8c-ecc1-4dad-c926-c68fdd344633"
   },
   "outputs": [],
   "source": [
    "img = rgb2gray(np.array(Image.open('graf.png')))\n",
    "GaussianPyramid(img)"
   ]
  },
  {
   "cell_type": "markdown",
   "metadata": {
    "id": "LrYuF1LHviyW"
   },
   "source": [
    "### Exercise 1 - Report **(2 Points)**\n",
    "\n",
    "Use the images from the previous exercises to write a report on what you learned about filters and convolutions **(in the text block below)**.\n",
    "In report, you should also compare your results: use the three filters you just created and apply on 'brick_aliasing.jpg' file and identify which filter is applied on Image A, Image B and Image C illustrated in Figure below. Use 7 as filter_size both for Gaussian and Box filter.\n",
    "\n",
    "![](https://drive.google.com/uc?export=view&id=1eDOTU7FIRht9WMiAeW3ZlsFnpAlW_ZGm)"
   ]
  },
  {
   "cell_type": "markdown",
   "metadata": {
    "id": "8PxPyPaL6i0J"
   },
   "source": [
    "**Write your Report here**\n",
    " \n",
    "\n",
    "- Image A filter -> \n",
    "- Image B filter ->\n",
    "- Image C filter ->"
   ]
  },
  {
   "cell_type": "markdown",
   "metadata": {
    "id": "ayQcua5RGuJ6"
   },
   "source": [
    "## Question 2: Identification **(10 Points)**"
   ]
  },
  {
   "cell_type": "markdown",
   "metadata": {
    "id": "kCdTv6vkkl_4"
   },
   "source": [
    "Import some useful libraries"
   ]
  },
  {
   "cell_type": "code",
   "execution_count": null,
   "metadata": {
    "id": "JfhnDRRsHL9x"
   },
   "outputs": [],
   "source": [
    "## import packages\n",
    "import numpy as np\n",
    "from PIL import Image\n",
    "from numpy import histogram as hist\n",
    "import matplotlib.pyplot as plt"
   ]
  },
  {
   "cell_type": "code",
   "execution_count": null,
   "metadata": {
    "id": "3s4ScmQCkzLR"
   },
   "outputs": [],
   "source": [
    "def rgb2gray(rgb):\n",
    "  r, g, b = rgb[:, :, 0], rgb[:, :, 1], rgb[:, :, 2]\n",
    "  gray = 0.2989 * r + 0.5870 * g + 0.1140 * b\n",
    "  return gray"
   ]
  },
  {
   "cell_type": "markdown",
   "metadata": {
    "id": "T-w9r4O5yVcu"
   },
   "source": [
    "### Exercise 2 - Code"
   ]
  },
  {
   "cell_type": "markdown",
   "metadata": {
    "id": "xj1KV3V1Gxdu"
   },
   "source": [
    "#### Exercise 2.a **(3 Points)**\n",
    "For this question,  implement the\n",
    "function **normalized hist**, which takes gray-value image as input and returns normalized histogram of\n",
    "pixel intensities. When quantizing the image to compute the histogram, consider that pixel intensities\n",
    "range in $[0, 255]$.\n",
    "Compare your implementation with built-in Python function numpy.histogram. Your histograms and\n",
    "histograms computed with Python should be approximately the same. (3 points)"
   ]
  },
  {
   "cell_type": "code",
   "execution_count": null,
   "metadata": {
    "id": "8MmQufrp27fL"
   },
   "outputs": [],
   "source": [
    "def normalized_hist(img_gray, num_bins = 40, show_verbose = False):\n",
    "  '''\n",
    "  Compute histogram of image intensities, histogram should be normalized so that sum of all values equals 1\n",
    "  assume that image intensity is between 0 and 255\n",
    "\n",
    "  img_gray - input image in grayscale format\n",
    "  num_bins - number of bins in the histogram\n",
    "\n",
    "  '''\n",
    "  #####################################################\n",
    "  ##                 YOUR CODE HERE                  ##\n",
    "  #####################################################\n",
    "\n",
    "  return hists, bins"
   ]
  },
  {
   "cell_type": "markdown",
   "metadata": {
    "id": "rd0IkObT5UDm"
   },
   "source": [
    "################# Do not write below this line just run #################"
   ]
  },
  {
   "cell_type": "code",
   "execution_count": null,
   "metadata": {
    "colab": {
     "base_uri": "https://localhost:8080/",
     "height": 388
    },
    "id": "J9DymP-shaU7",
    "outputId": "c7383080-098b-44f8-cc50-abfecd2426d2"
   },
   "outputs": [],
   "source": [
    "img_color = np.array(Image.open('model/obj100__0.png'))\n",
    "img_gray = rgb2gray(img_color.astype('double'))\n",
    "\n",
    "plt.figure(1)\n",
    "plt.subplot(1,3,1)\n",
    "plt.imshow(img_gray,cmap='gray', vmin=0, vmax=255)\n",
    "\n",
    "plt.subplot(1,3,2)\n",
    "num_bins_gray = 40\n",
    "hist_gray1, bin_gray1 = hist(img_gray.reshape(img_gray.size), num_bins_gray,(0,255))\n",
    "plt.bar((bin_gray1[0:-1] + bin_gray1[1:])/2, hist_gray1, width=3)\n",
    "\n",
    "plt.subplot(1,3,3)\n",
    "hist_gray2, bin_gray2 = normalized_hist(img_gray, num_bins_gray)\n",
    "plt.bar((bin_gray2[0:-1] + bin_gray2[1:])/2, hist_gray2, width=3)\n",
    "plt.show()"
   ]
  },
  {
   "cell_type": "markdown",
   "metadata": {
    "id": "81y1bHwiIXUF"
   },
   "source": [
    "#### Exercise 2.b **(6 Points)**\n",
    "Implement the histogram types. Your implementation should\n",
    "complete the scripts provided in the functions rgb_hist, rg_hist and dxdy_hist.\n",
    "As above, when quantizing the images to compute the histogram, consider that “RGB” and “RG” range in\n",
    "$[0, 255]$. For the case of dxdy hist, the actual image value ranges depend on the chosen Gaussian filtering\n",
    "variance, used when computing the derivative. For this exercise, set the standard deviation $σ = 3.0$ and\n",
    "cap the pixel values to be in the range $[−6, 6]$, i.e. set all values below (above) the value of -6 (+6) to -6\n",
    "(+6). (3 points)"
   ]
  },
  {
   "cell_type": "markdown",
   "metadata": {
    "id": "Bpmpn983JGvr"
   },
   "source": [
    "##### RGB"
   ]
  },
  {
   "cell_type": "code",
   "execution_count": null,
   "metadata": {
    "id": "ygPUj08E4fS1"
   },
   "outputs": [],
   "source": [
    "def rgb_hist(img_color_double, num_bins = 5, show_verbose = False):\n",
    "  '''\n",
    "  Compute the *joint* histogram for each color channel in the image\n",
    "  The histogram should be normalized so that sum of all values equals 1\n",
    "  Assume that values in each channel vary between 0 and 255\n",
    "\n",
    "  img_color - input color image\n",
    "  num_bins - number of bins used to discretize each channel, total number of bins in the histogram should be num_bins^3\n",
    "\n",
    "  E.g. hists[0,9,5] contains the number of image_color pixels such that:\n",
    "      - their R values fall in bin 0\n",
    "      - their G values fall in bin 9\n",
    "      - their B values fall in bin 5\n",
    "  '''\n",
    "\n",
    "  #####################################################\n",
    "  ##                 YOUR CODE HERE                  ##\n",
    "  #####################################################\n",
    "  \n",
    "  return hists"
   ]
  },
  {
   "cell_type": "markdown",
   "metadata": {
    "id": "YrrLDCxs5WIm"
   },
   "source": [
    "################# Do not write below this line just run #################"
   ]
  },
  {
   "cell_type": "code",
   "execution_count": null,
   "metadata": {
    "colab": {
     "base_uri": "https://localhost:8080/",
     "height": 405
    },
    "id": "BCD18Y7zImO1",
    "outputId": "3da5e689-c8f2-48cc-9e80-5f47d207e993"
   },
   "outputs": [],
   "source": [
    "# Compose and test RGB histograms (rgb_hist)\n",
    "plt.figure(2)\n",
    "plt.subplot(1,2,1)\n",
    "plt.imshow(img_color)\n",
    "\n",
    "num_bins_color = 5\n",
    "\n",
    "plt.subplot(1,2,2)\n",
    "hist_rgb1 = rgb_hist(img_color.astype('double'), num_bins_color)\n",
    "plt.bar(np.array(range(1, hist_rgb1.size+1)),hist_rgb1)"
   ]
  },
  {
   "cell_type": "markdown",
   "metadata": {
    "id": "9KSRbEk2JIZo"
   },
   "source": [
    "##### RG"
   ]
  },
  {
   "cell_type": "code",
   "execution_count": null,
   "metadata": {
    "id": "-DcTrWKr5Ofx"
   },
   "outputs": [],
   "source": [
    "def rg_hist(img_color_double, num_bins = 5, show_verbose = False):\n",
    "  '''\n",
    "  Compute the *joint* histogram for the R and G color channels in the image\n",
    "  The histogram should be normalized so that sum of all values equals 1\n",
    "  Assume that values in each channel vary between 0 and 255\n",
    "\n",
    "  img_color - input color image\n",
    "  num_bins - number of bins used to discretize each channel, total number of bins in the histogram should be num_bins^2\n",
    "\n",
    "  E.g. hists[0,9] contains the number of image_color pixels such that:\n",
    "      - their R values fall in bin 0\n",
    "      - their G values fall in bin 9\n",
    "  '''\n",
    "\n",
    "  #####################################################\n",
    "  ##                 YOUR CODE HERE                  ##\n",
    "  #####################################################\n",
    "\n",
    "  return hists"
   ]
  },
  {
   "cell_type": "markdown",
   "metadata": {
    "id": "iQckCMwO5XgU"
   },
   "source": [
    "################# Do not write below this line just run #################"
   ]
  },
  {
   "cell_type": "code",
   "execution_count": null,
   "metadata": {
    "colab": {
     "base_uri": "https://localhost:8080/",
     "height": 388
    },
    "id": "mt6pWzvaJPn2",
    "outputId": "bdfdff2c-2cee-4c1f-db32-de4ec82140a1"
   },
   "outputs": [],
   "source": [
    "#Compose and test RG histograms (histogram_module.rg_hist)\n",
    "plt.figure(3)\n",
    "plt.subplot(1,2,1)\n",
    "plt.imshow(img_color)\n",
    "\n",
    "num_bins_color = 5\n",
    "plt.subplot(1,2,2)\n",
    "hist_rg = rg_hist(img_color.astype('double'), num_bins_color)\n",
    "plt.bar(np.array(range(1,hist_rg.size+1)),hist_rg)\n",
    "plt.show()"
   ]
  },
  {
   "cell_type": "markdown",
   "metadata": {
    "id": "oJVxfVNmJZsG"
   },
   "source": [
    "##### DXDY"
   ]
  },
  {
   "cell_type": "code",
   "execution_count": null,
   "metadata": {
    "id": "IEenHCnh7D4W"
   },
   "outputs": [],
   "source": [
    "def gaussderiv(img, sigma):\n",
    "\n",
    "  #####################################################\n",
    "  ##                 YOUR CODE HERE                  ##\n",
    "  #####################################################\n",
    "  \n",
    "  return imgDx, imgDy"
   ]
  },
  {
   "cell_type": "code",
   "execution_count": null,
   "metadata": {
    "id": "1Qhgpo5-7IPh"
   },
   "outputs": [],
   "source": [
    "def dxdy_hist(img_gray, num_bins = 5, show_verbose = False):\n",
    "  '''\n",
    "  Compute the *joint* histogram of Gaussian partial derivatives of the image in x and y direction\n",
    "  Set sigma to 3.0 and cap the range of derivative values is in the range [-6, 6]\n",
    "  The histogram should be normalized so that sum of all values equals 1\n",
    "\n",
    "  img_gray - input gray value image\n",
    "  num_bins - number of bins used to discretize each dimension, total number of bins in the histogram should be num_bins^2\n",
    "\n",
    "  Note: you can use the function gaussderiv from the Filtering exercise\n",
    "  '''\n",
    "  \n",
    "  #####################################################\n",
    "  ##                 YOUR CODE HERE                  ##\n",
    "  #####################################################\n",
    "  \n",
    "  return hists"
   ]
  },
  {
   "cell_type": "markdown",
   "metadata": {
    "id": "H2ORDhvf5ZfN"
   },
   "source": [
    "################# Do not write below this line just run #################"
   ]
  },
  {
   "cell_type": "code",
   "execution_count": null,
   "metadata": {
    "colab": {
     "base_uri": "https://localhost:8080/",
     "height": 388
    },
    "id": "dAse5kszJbez",
    "outputId": "5aee1449-21a0-4cd6-9836-389b7330b0af"
   },
   "outputs": [],
   "source": [
    "#Compose and test dxdy histograms (histogram_module.dxdy_hist)\n",
    "\n",
    "plt.figure(5)\n",
    "plt.subplot(1,2,1)\n",
    "plt.imshow(img_color)\n",
    "\n",
    "num_bins_dxdy = 10\n",
    "plt.subplot(1,2,2)\n",
    "hist_dxdy = dxdy_hist(img_gray, num_bins_dxdy)\n",
    "plt.bar(np.array(range(1,hist_dxdy.size+1)),hist_dxdy)\n",
    "plt.show()"
   ]
  },
  {
   "cell_type": "markdown",
   "metadata": {
    "id": "VBLX_xhRKZff"
   },
   "source": [
    "#### Exercise 2.c **(1 Point)**\n",
    "Implement the histogram distance functions. \n",
    "\n",
    "In more details, implement the function *dist_intersect*:\n",
    "\\begin{equation}\n",
    "\\bigcap(Q,V)=1-\\frac{1}{2}\\left(\n",
    "\\frac{\\sum_i \\min(q_i,v_i)}{\\sum_i q_i} +\n",
    "\\frac{\\sum_i \\min(q_i,v_i)}{\\sum_i v_i}\n",
    "\\right)\n",
    "\\end{equation}\n",
    "\n",
    "the *dist_l2* function:\n",
    "\\begin{equation}\n",
    "d(Q,V)=\\sqrt{\\sum_i (q_i-v_i)^2}\n",
    "\\end{equation}\n",
    "\n",
    "and the *dist_chi2*:\n",
    "\\begin{equation}\n",
    "\\chi^2(Q,V)=\\sum_i \\frac{(q_i-v_i)^2}{q_i + v_i}\n",
    "\\end{equation}\n"
   ]
  },
  {
   "cell_type": "code",
   "execution_count": null,
   "metadata": {
    "id": "b26TXvXU8di3"
   },
   "outputs": [],
   "source": [
    "def dist_intersect(x,y):\n",
    "  '''\n",
    "  Compute the intersection distance between histograms x and y\n",
    "Return 1 - hist_intersection, so smaller values correspond to more similar histograms\n",
    "Check that the distance range in [0,1]\n",
    "  '''\n",
    "\n",
    "  #####################################################\n",
    "  ##                 YOUR CODE HERE                  ##\n",
    "  #####################################################\n",
    "  \n",
    "  return 1 - hist_intersection\n",
    "\n",
    "\n",
    "def dist_l2(x,y):\n",
    "  '''\n",
    "  Compute the L2 distance between x and y histograms\n",
    "  Check that the distance range in [0,sqrt(2)]\n",
    "  '''\n",
    "    \n",
    "  #####################################################\n",
    "  ##                 YOUR CODE HERE                  ##\n",
    "  #####################################################\n",
    "\n",
    "  return l2_dist\n",
    "\n",
    "\n",
    "def dist_chi2(x,y):\n",
    "  '''\n",
    "  Compute chi2 distance between x and y\n",
    "  Check that the distance range in [0,Inf]\n",
    "  Add a minimum score to each cell of the histograms (e.g. 1) to avoid division by 0\n",
    "  '''\n",
    "\n",
    "  #####################################################\n",
    "  ##                 YOUR CODE HERE                  ##\n",
    "  #####################################################\n",
    "\n",
    "  return chi2_dist"
   ]
  },
  {
   "cell_type": "markdown",
   "metadata": {
    "id": "vhVwuyBaK3tB"
   },
   "source": [
    "## Question 3: Object Identification **(11 Points)**"
   ]
  },
  {
   "cell_type": "markdown",
   "metadata": {
    "id": "OhSUXTHjy5Wo"
   },
   "source": [
    "### Exercise 3 - Code **(7 Points)**"
   ]
  },
  {
   "cell_type": "markdown",
   "metadata": {
    "id": "kg-j-e9FNIgg"
   },
   "source": [
    "#### Exercise 3.a **(4 Points)**\n",
    "Having implemented different distance functions and image histograms, you can now test how suitable\n",
    "they are for retrieving images in query-by-example scenario. Implement a function find_best_match which takes a list of model images and a list of query images and for each query im-\n",
    "age returns the index of closest model image. The function should take string parameters, which identify\n",
    "distance function, histogram function and number of histogram bins. See comments in the beginning of\n",
    "find_best_match function for more details. Additionally to the indices of the best matching images your implemen-\n",
    "tation should also return a matrix which contains distances between all pairs of model and query images.\n",
    "(3 points)"
   ]
  },
  {
   "cell_type": "code",
   "execution_count": null,
   "metadata": {
    "id": "7--k70mUL_Qz"
   },
   "outputs": [],
   "source": [
    "def is_grayvalue_hist(hist_name):\n",
    "  '''\n",
    "  Handle function to discriminate when your input \n",
    "  function is in gray_scale or colors.\n",
    "  '''\n",
    "  if hist_name == 'grayvalue' or hist_name == 'dxdy':\n",
    "    return True\n",
    "  elif hist_name == 'rgb' or hist_name == 'rg':\n",
    "    return False\n",
    "  else:\n",
    "    assert False, 'unknown histogram type'\n",
    "\n",
    "\n",
    "def get_hist_by_name(img, num_bins_gray, hist_name):\n",
    "  '''\n",
    "  Handle function to get the correct historgam function \n",
    "  by his name.\n",
    "  '''\n",
    "  if hist_name == 'grayvalue':\n",
    "    return normalized_hist(img, num_bins_gray)\n",
    "  elif hist_name == 'rgb':\n",
    "    return rgb_hist(img, num_bins_gray)\n",
    "  elif hist_name == 'rg':\n",
    "    return rg_hist(img, num_bins_gray)\n",
    "  elif hist_name == 'dxdy':\n",
    "    return dxdy_hist(img, num_bins_gray)\n",
    "  else:\n",
    "    assert False, 'unknown hist type: %s'%hist_name\n",
    "\n",
    "\n",
    "def get_dist_by_name(x, y, dist_name):\n",
    "  '''\n",
    "  Handle function to get the correct distance function \n",
    "  by his name.\n",
    "  '''\n",
    "  if dist_name == 'chi2':\n",
    "    return dist_chi2(x,y)\n",
    "  elif dist_name == 'intersect':\n",
    "    return dist_intersect(x,y)\n",
    "  elif dist_name == 'l2':\n",
    "    return dist_l2(x,y)\n",
    "  elif dist_name == 'all':\n",
    "    pass\n",
    "  else:\n",
    "    assert False, 'unknown distance: %s'%dist_name\n",
    "\n",
    "def read_files():\n",
    "  '''\n",
    "  Handle function to read query and model files\n",
    "  '''\n",
    "  with open('model.txt') as fp:\n",
    "    model_images = fp.readlines()\n",
    "  model_images = [x.strip() for x in model_images]\n",
    "\n",
    "  with open('query.txt') as fp:\n",
    "    query_images = fp.readlines()\n",
    "  query_images = [x.strip() for x in query_images]\n",
    "\n",
    "  return query_images, model_images"
   ]
  },
  {
   "cell_type": "code",
   "execution_count": null,
   "metadata": {
    "id": "JGTzGSQt_LU1"
   },
   "outputs": [],
   "source": [
    "# note: use functions 'get_dist_by_name', 'get_hist_by_name' and 'is_grayvalue_hist' to obtain \n",
    "#       handles to distance and histogram functions, and to find out whether histogram function \n",
    "#       expects grayvalue or color image\n",
    "\n",
    "def compute_histograms(image_list, hist_type, hist_isgray, num_bins):\n",
    "  '''\n",
    "  this function returns a list containing the histograms for\n",
    "  the list of images given as input.\n",
    "  '''\n",
    "  #####################################################\n",
    "  ##                 YOUR CODE HERE                  ##\n",
    "  #####################################################\n",
    "  \n",
    "  return image_hist\n",
    "\n",
    "\n",
    "\n",
    "def find_best_match(model_images, query_images, dist_type, hist_type, num_bins):\n",
    "  '''\n",
    "  Function to find the best match for each image in the \n",
    "  query folder.\n",
    "  Input:\n",
    "    model_images: list of strings with the path of model images.\n",
    "    query_images: list of strings with the path of query images.\n",
    "    dist_type:    a string to represent the name of the distance you want to \n",
    "                  use. Should be one among \"l2\", \"intersect\", \"chi2\".\n",
    "    hist_type:    a string to represent the name of the histogram you want to \n",
    "                  use. Should be one among \"grayvalue\", \"rgb\", \"rg\", \"dxdy\".\n",
    "  \n",
    "  Output:\n",
    "    best_match:   list containing in each position the index of the retrieved\n",
    "                  best matching image.\n",
    "    D:            Matrix with |model_images| rows and |query_images| columns\n",
    "                  containing the scores of each matching.\n",
    "  '''\n",
    "  #####################################################\n",
    "  ##                 YOUR CODE HERE                  ##\n",
    "  #####################################################  \n",
    "\n",
    "  return best_match, D"
   ]
  },
  {
   "cell_type": "markdown",
   "metadata": {
    "id": "EInVn-br5h1u"
   },
   "source": [
    "################# Do not write below this line just run #################"
   ]
  },
  {
   "cell_type": "code",
   "execution_count": null,
   "metadata": {
    "colab": {
     "base_uri": "https://localhost:8080/"
    },
    "id": "lwhtN9h5zFsw",
    "outputId": "c0517c10-9dd8-4e7a-e141-ca6e0450b676"
   },
   "outputs": [],
   "source": [
    "# model_images - list of file names of model images\n",
    "# query_images - list of file names of query images\n",
    "\n",
    "query_images, model_images = read_files()\n",
    "\n",
    "dist_type = 'intersect'\n",
    "hist_type = 'rgb'\n",
    "num_bins = 10\n",
    "\n",
    "[best_match, D] = find_best_match(\n",
    "    model_images, query_images, dist_type, hist_type, num_bins)\n",
    "\n",
    "print(\"Indexes of correct retrieved images is:\\n \", *np.where(best_match == np.arange(len(query_images))))\n",
    "print(\"The Recognition rate is\", sum(best_match == np.arange(len(query_images)))/len(query_images))"
   ]
  },
  {
   "cell_type": "markdown",
   "metadata": {
    "id": "R96KmOYVM82o"
   },
   "source": [
    "#### Exercise 3.b **(3 Points)**\n",
    "Implement a function **show_neighbors** which takes a list of model images and a list of\n",
    "query images and for each query image visualizes several model images which are closest to the query image\n",
    "according to the specified distance metric. Use the function find best match in your implementation. See the Figure below for example of the output.\n",
    "\n",
    "![](https://drive.google.com/uc?export=view&id=1qlPbNzh92u9EU4kzNMbHg0uRgSk4AnRO)\n"
   ]
  },
  {
   "cell_type": "code",
   "execution_count": null,
   "metadata": {
    "id": "r5--0VQkGII0"
   },
   "outputs": [],
   "source": [
    "def show_neighbors(model_images, query_images, dist_type, hist_type, num_bins):\n",
    "  '''\n",
    "  For each image file from 'query_images' find and visualize the 5 nearest images from 'model_image'.\n",
    "\n",
    "  Note: use the previously implemented function 'find_best_match'\n",
    "  Note: use subplot command to show all the images in the same Python figure, one row per query image\n",
    "  \n",
    "  '''\n",
    "  \n",
    "  #####################################################\n",
    "  ##                 YOUR CODE HERE                  ##\n",
    "  #####################################################\n",
    "\n",
    "  return"
   ]
  },
  {
   "cell_type": "markdown",
   "metadata": {
    "id": "82QRWPM95lpW"
   },
   "source": [
    "################# Do not write below this line just run #################"
   ]
  },
  {
   "cell_type": "code",
   "execution_count": null,
   "metadata": {
    "colab": {
     "base_uri": "https://localhost:8080/",
     "height": 327
    },
    "id": "bMNarFSsNSvT",
    "outputId": "2f4c6373-3e34-433b-d4e8-674f8fc6be53"
   },
   "outputs": [],
   "source": [
    "## visualize nearest neighbors\n",
    "query_images_vis = [query_images[i] for i in np.array([0,4,9])]\n",
    "show_neighbors(model_images, query_images_vis, dist_type, hist_type, num_bins)"
   ]
  },
  {
   "cell_type": "markdown",
   "metadata": {
    "id": "PW1HsBVuN-x0"
   },
   "source": [
    "#### Metric\n",
    " Use the function find best match to compute recognition rate for different combinations of distance and\n",
    "histogram functions. The recognition rate is given by a ratio between number of correct matches and total\n",
    "number of query images.\n"
   ]
  },
  {
   "cell_type": "markdown",
   "metadata": {
    "id": "SADFoZxF5tIq"
   },
   "source": [
    "################# Do not write below this line just run #################"
   ]
  },
  {
   "cell_type": "code",
   "execution_count": null,
   "metadata": {
    "colab": {
     "base_uri": "https://localhost:8080/"
    },
    "id": "4bdWfMepOAi-",
    "outputId": "1e573c89-ae32-44dd-8ff4-36639d116bbf"
   },
   "outputs": [],
   "source": [
    "num_correct = sum(best_match == range(len(query_images)))\n",
    "print('number of correct matches: %d (%f)\\n'% (num_correct, 1.0 * num_correct / len(query_images)))"
   ]
  },
  {
   "cell_type": "markdown",
   "metadata": {
    "id": "jQD3_DRtsjlq"
   },
   "source": [
    "### Report **(4 Points)**\n",
    "\n",
    "Experiment with different functions and numbers of histogram bins, try to find\n",
    "combination that works best. **Submit the summary of your experiments in a report as part of your solution.**\n"
   ]
  },
  {
   "cell_type": "markdown",
   "metadata": {
    "id": "Mt8zvGFbsjlu"
   },
   "source": [
    "**Write your Report here**\n",
    "\n",
    "\n",
    "|  | Number of Bins | Metric(Distance Metric) | Accuracy |\n",
    "|---|---|---|---|\n",
    "| 1 |  |  |  |\n",
    "| 2 |  |  |  |\n",
    "| 3 |  |  |  |\n",
    "| ... |  |  |  |\n"
   ]
  },
  {
   "cell_type": "markdown",
   "metadata": {
    "id": "BQ_SHchCOrOB"
   },
   "source": [
    "## Question 4: [K-Means]((https://towardsdatascience.com/understanding-k-means-clustering-in-machine-learning-6a6e67336aa1)) \n",
    "###(Bonus question for **5 Points**, not compulsory)\n",
    "\n",
    "Recolor the original images and Query images by using Kmeans. And find the best matches between the two.\n",
    "\n",
    "There are several way to preprocess an image, and in this exrcise you will work with \"recoloration\". Given an image, you will use a Kmeans model to transform it, and use the same model to transform the images that belongs to the model folder, then repeat the previous to exercises to extract the RGB hist and find the best match. We'll provide the method to fit a KMeans model on an image and to transform an image given a KMeans model. You should then use these functions, applying them on the query images (to retrieve recolored images and a KMeans_model for each query image) and on the model images. Pay attention on the fact that you should use a model fitted on a query image on the whole model folder to have coherent results.\n",
    "\n",
    "In the following example, the KMeans model has been fitted on three different images: [Row 1] then these models are used to transform original images to recolored images [Row 2:4]\n",
    "\n",
    "![](https://drive.google.com/uc?export=view&id=1m0Wu2n12BflIwMHL1g3LUxHurotxrPWr)"
   ]
  },
  {
   "cell_type": "markdown",
   "metadata": {
    "id": "qg-tMFm_zzUK"
   },
   "source": [
    "#### Exercise 4 - Code **(3 Points)**\n"
   ]
  },
  {
   "cell_type": "code",
   "execution_count": null,
   "metadata": {
    "id": "8LTDDh25cIwH"
   },
   "outputs": [],
   "source": [
    "from sklearn.cluster import KMeans\n",
    "import numpy as np\n",
    "\n",
    "def fitting_kmeans(query, K):\n",
    "  '''\n",
    "  fit a Kmeans model on 1 image.\n",
    "  return the recolored image and the KM model\n",
    "  '''\n",
    "  shape_ = query.shape\n",
    "\n",
    "  kmeans = KMeans(K)\n",
    "  data = query.reshape(-1, 3)\n",
    "  kmeans.fit(data)\n",
    "  query_recolored = kmeans.cluster_centers_[kmeans.predict(data)]\n",
    "\n",
    "  return query_recolored.reshape(shape_), kmeans\n",
    "\n",
    "\n",
    "def apply_kmeans(km_model, model_image):\n",
    "  '''\n",
    "  transform with a Kmeans model 1 image.\n",
    "  return the recolored image.\n",
    "  '''\n",
    "\n",
    "  shape_ = model_image.shape\n",
    "  data = model_image.reshape(-1, 3)\n",
    "  img_recolored = km_model.cluster_centers_[km_model.predict(data)]\n",
    "\n",
    "  return img_recolored.reshape(shape_)"
   ]
  },
  {
   "cell_type": "code",
   "execution_count": null,
   "metadata": {
    "id": "DkTnHyBBOZU4"
   },
   "outputs": [],
   "source": [
    "def compute_KM_histograms(image_list, num_bins=10):\n",
    "  '''\n",
    "  Function to compute histograms of a list of images.\n",
    "  Leverage the \"rgb_hist\" function previously coded.\n",
    "  '''\n",
    "\n",
    "  #####################################################\n",
    "  ##                 YOUR CODE HERE                  ##\n",
    "  #####################################################\n",
    "\n",
    "  return image_hists"
   ]
  },
  {
   "cell_type": "code",
   "execution_count": null,
   "metadata": {
    "id": "kUiV7oREOkei"
   },
   "outputs": [],
   "source": [
    "def compute_KMeans(model_list, query_list, K):\n",
    "  '''\n",
    "  Function to compute the recolored images from both query and \n",
    "  model lists. You should:\n",
    "    1. Apply the fitting metod to queries retrieving the ist of recolored\n",
    "       queries and KMeans models.\n",
    "    2. Apply the transforming method on all the images in the model folder\n",
    "       for each KMeans you fitted in the previous step.\n",
    "    3. Return the 2 lists of recolored images.\n",
    "  '''\n",
    "  query_recolored_imgs = []\n",
    "  query_km_models = []\n",
    "  model_recolored_imgs = []\n",
    "\n",
    "  #####################################################\n",
    "  ##                 YOUR CODE HERE                  ##\n",
    "  #####################################################\n",
    "\n",
    "  return query_recolored_imgs, model_recolored_imgs\n",
    "\n",
    "\n",
    "def compute_recolored_hists(query_recolored, model_recolored):\n",
    "  '''\n",
    "  Function to compute the histograms of lists of images.\n",
    "  Use the compute_KM_histograms function.\n",
    "  '''\n",
    "  \n",
    "  #####################################################\n",
    "  ##                 YOUR CODE HERE                  ##\n",
    "  #####################################################\n",
    "\n",
    "  return query_hists, model_hists\n",
    "\n",
    "\n",
    "def compute_matching(q_hists, m_hists, dist_type):\n",
    "  '''\n",
    "  Function to compute the scores among several histograms.\n",
    "  Similarly to find_best_match function you have previously defined,\n",
    "  this function will return the best_match list.\n",
    "\n",
    "  EXTRA: add the 'all' dist_type wich compute the scores for all 3 \n",
    "  kind of distances, exploiting the strength of modulation!\n",
    "  '''\n",
    "\n",
    "  #####################################################\n",
    "  ##                 YOUR CODE HERE                  ##\n",
    "  #####################################################\n",
    "\n",
    "  return best_match\n",
    "\n",
    "def print_corrects_KM(match, tot_q_images, dist_type, K):\n",
    "  '''\n",
    "  Function to print the results.\n",
    "  Input:\n",
    "    match: the best_match results\n",
    "    tot_images: len(model_images)\n",
    "    dist_type: among 'l2', 'intersect' and 'chi2' (EXTRA: 'all')\n",
    "    K: K-Means parameter\n",
    "  \n",
    "  last three args should be expicitly printed by this function.\n",
    "  \n",
    "  Example of Output:\n",
    "\n",
    "  Settings: K=30, dist=chi2\n",
    "  Results: Number of correct matches: 58/89 (65.17%)\n",
    "  '''\n",
    "\n",
    "  #####################################################\n",
    "  ##                 YOUR CODE HERE                  ##\n",
    "  #####################################################\n",
    "\n",
    "def KM_matching(model_imgs, query_imgs, dist_type, K):\n",
    "  '''\n",
    "  Use all the functions you have just defined to print the results.\n",
    "  '''\n",
    "\n",
    "  #####################################################\n",
    "  ##                 YOUR CODE HERE                  ##\n",
    "  #####################################################\n",
    "\n",
    "  return"
   ]
  },
  {
   "cell_type": "markdown",
   "metadata": {
    "id": "Guyui13Y5xf9"
   },
   "source": [
    "################# Do not write below this line just run #################"
   ]
  },
  {
   "cell_type": "code",
   "execution_count": null,
   "metadata": {
    "colab": {
     "base_uri": "https://localhost:8080/"
    },
    "id": "muCvEiWmNcDd",
    "outputId": "09962079-65a6-481c-d2e1-4ed7539c4b05"
   },
   "outputs": [],
   "source": [
    "query_images, model_images = read_files()\n",
    "\n",
    "K = 30\n",
    "dist_type = 'all'\n",
    "\n",
    "KM_matching(model_images, query_images, dist_type, K)"
   ]
  },
  {
   "cell_type": "markdown",
   "metadata": {
    "id": "oAnDemO0rFbQ"
   },
   "source": [
    "#### Report **(2 Points)**\n",
    "\n",
    "Experiment with different functions and numbers of clusters, try to find\n",
    "combination that works best. **Submit the summary of your experiments in a report as part of your solution.**"
   ]
  },
  {
   "cell_type": "markdown",
   "metadata": {
    "id": "4m-murSQYLIB"
   },
   "source": [
    "**Write your Report here**\n",
    "\n",
    "\n",
    "|  | Number of Clusters | Metric(Distance Metric) | Accuracy |\n",
    "|---|---|---|---|\n",
    "| 1 |  |  |  |\n",
    "| 2 |  |  |  |\n",
    "| 3 |  |  |  |\n",
    "| ... |  |  |  |\n"
   ]
  }
 ],
 "metadata": {
  "colab": {
   "collapsed_sections": [
    "x2K7arzbdXst",
    "PiSZmPa3vJe_",
    "yV8bL4SjdfRa",
    "BSlOA3LdwQX-",
    "5RjULnuwCzdi",
    "z--zFCaLUm0f",
    "fjSheD-tXA4S",
    "m6BSqihaC1fp",
    "uXmgnhsShOHB",
    "Dv-Fw9VjDwzc",
    "NgiRrMnf7AfJ",
    "YWJWsjraqarL",
    "LrYuF1LHviyW",
    "ayQcua5RGuJ6",
    "T-w9r4O5yVcu",
    "xj1KV3V1Gxdu",
    "81y1bHwiIXUF",
    "Bpmpn983JGvr",
    "9KSRbEk2JIZo",
    "oJVxfVNmJZsG",
    "VBLX_xhRKZff",
    "vhVwuyBaK3tB",
    "OhSUXTHjy5Wo",
    "kg-j-e9FNIgg",
    "R96KmOYVM82o",
    "PW1HsBVuN-x0",
    "jQD3_DRtsjlq",
    "oAnDemO0rFbQ"
   ],
   "name": "Copia di FDS_Assignment1_Assignment.ipynb",
   "provenance": [
    {
     "file_id": "15O8TDqcQbY_V3JdnIcd9XsAmp8NNQxCv",
     "timestamp": 1632388514953
    }
   ]
  },
  "kernelspec": {
   "display_name": "Python 3",
   "language": "python",
   "name": "python3"
  },
  "language_info": {
   "codemirror_mode": {
    "name": "ipython",
    "version": 3
   },
   "file_extension": ".py",
   "mimetype": "text/x-python",
   "name": "python",
   "nbconvert_exporter": "python",
   "pygments_lexer": "ipython3",
   "version": "3.7.4"
  }
 },
 "nbformat": 4,
 "nbformat_minor": 4
}
